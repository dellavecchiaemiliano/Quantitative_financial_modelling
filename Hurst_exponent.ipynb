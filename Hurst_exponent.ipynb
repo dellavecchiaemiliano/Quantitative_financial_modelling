{
  "nbformat": 4,
  "nbformat_minor": 0,
  "metadata": {
    "colab": {
      "provenance": [],
      "include_colab_link": true
    },
    "kernelspec": {
      "name": "python3",
      "display_name": "Python 3"
    },
    "language_info": {
      "name": "python"
    }
  },
  "cells": [
    {
      "cell_type": "markdown",
      "metadata": {
        "id": "view-in-github",
        "colab_type": "text"
      },
      "source": [
        "<a href=\"https://colab.research.google.com/github/dellavecchiaemiliano/Quantitative_financial_modelling/blob/main/Hurst_exponent.ipynb\" target=\"_parent\"><img src=\"https://colab.research.google.com/assets/colab-badge.svg\" alt=\"Open In Colab\"/></a>"
      ]
    },
    {
      "cell_type": "markdown",
      "source": [
        "# **Importing Libraries**"
      ],
      "metadata": {
        "id": "Qu47QsTFPWIB"
      }
    },
    {
      "cell_type": "code",
      "execution_count": null,
      "metadata": {
        "colab": {
          "base_uri": "https://localhost:8080/"
        },
        "id": "bA0Kosfl2XHu",
        "outputId": "2511639e-b3a6-43c5-b134-79617bf5515c"
      },
      "outputs": [
        {
          "output_type": "stream",
          "name": "stdout",
          "text": [
            "Drive already mounted at /content/drive; to attempt to forcibly remount, call drive.mount(\"/content/drive\", force_remount=True).\n"
          ]
        }
      ],
      "source": [
        "from google.colab import drive\n",
        "drive.mount('/content/drive')"
      ]
    },
    {
      "cell_type": "code",
      "source": [
        "import pandas as pd\n",
        "import numpy as np\n",
        "import matplotlib.pyplot as plt"
      ],
      "metadata": {
        "id": "tfM1GB5v2Yyw"
      },
      "execution_count": null,
      "outputs": []
    },
    {
      "cell_type": "markdown",
      "source": [
        "# **Importing data**"
      ],
      "metadata": {
        "id": "k7Kr98PlQfab"
      }
    },
    {
      "cell_type": "code",
      "source": [
        "ftse = '/content/drive/MyDrive/Classroom/Quantitative Financial Modelling (2022-23) Finance and Insurance, Financial Risk and Data Analysis/^FTSE.csv'\n",
        "df = pd.read_csv(ftse, parse_dates=['Date'], index_col='Date')\n",
        "df = df.dropna()['Close']\n",
        "df                                                               "
      ],
      "metadata": {
        "colab": {
          "base_uri": "https://localhost:8080/"
        },
        "id": "jmyFjTkD2z5M",
        "outputId": "8b74f6cb-bb4f-4d2a-9b17-f10272046195"
      },
      "execution_count": null,
      "outputs": [
        {
          "output_type": "execute_result",
          "data": {
            "text/plain": [
              "Date\n",
              "1984-01-03     997.500000\n",
              "1984-01-04     998.599976\n",
              "1984-01-05    1015.799988\n",
              "1984-01-06    1029.000000\n",
              "1984-01-09    1034.599976\n",
              "                 ...     \n",
              "2021-12-21    7297.399902\n",
              "2021-12-22    7341.700195\n",
              "2021-12-23    7373.299805\n",
              "2021-12-24    7372.100098\n",
              "2021-12-29    7447.100098\n",
              "Name: Close, Length: 9599, dtype: float64"
            ]
          },
          "metadata": {},
          "execution_count": 133
        }
      ]
    },
    {
      "cell_type": "markdown",
      "source": [
        "# **Computing logarithmic returns**"
      ],
      "metadata": {
        "id": "1k9MLwaPQmpx"
      }
    },
    {
      "cell_type": "code",
      "source": [
        "df_logret = np.log(df) - np.log(df.shift(1))    \n",
        "df_logret = df_logret.dropna()                     \n",
        "returns = pd.DataFrame(index=df.index)\n",
        "returns['Prices'] = df\n",
        "returns['Log Returns'] = df_logret\n",
        "returns"
      ],
      "metadata": {
        "colab": {
          "base_uri": "https://localhost:8080/",
          "height": 455
        },
        "id": "bzSOrR9L5AVU",
        "outputId": "bb4d14fc-cf15-4899-a389-23c923c1a70d"
      },
      "execution_count": null,
      "outputs": [
        {
          "output_type": "execute_result",
          "data": {
            "text/plain": [
              "                 Prices  Log Returns\n",
              "Date                                \n",
              "1984-01-03   997.500000          NaN\n",
              "1984-01-04   998.599976     0.001102\n",
              "1984-01-05  1015.799988     0.017077\n",
              "1984-01-06  1029.000000     0.012911\n",
              "1984-01-09  1034.599976     0.005427\n",
              "...                 ...          ...\n",
              "2021-12-21  7297.399902     0.013715\n",
              "2021-12-22  7341.700195     0.006052\n",
              "2021-12-23  7373.299805     0.004295\n",
              "2021-12-24  7372.100098    -0.000163\n",
              "2021-12-29  7447.100098     0.010122\n",
              "\n",
              "[9599 rows x 2 columns]"
            ],
            "text/html": [
              "\n",
              "  <div id=\"df-6c92f8f3-3c86-4066-90ba-081f1d936458\">\n",
              "    <div class=\"colab-df-container\">\n",
              "      <div>\n",
              "<style scoped>\n",
              "    .dataframe tbody tr th:only-of-type {\n",
              "        vertical-align: middle;\n",
              "    }\n",
              "\n",
              "    .dataframe tbody tr th {\n",
              "        vertical-align: top;\n",
              "    }\n",
              "\n",
              "    .dataframe thead th {\n",
              "        text-align: right;\n",
              "    }\n",
              "</style>\n",
              "<table border=\"1\" class=\"dataframe\">\n",
              "  <thead>\n",
              "    <tr style=\"text-align: right;\">\n",
              "      <th></th>\n",
              "      <th>Prices</th>\n",
              "      <th>Log Returns</th>\n",
              "    </tr>\n",
              "    <tr>\n",
              "      <th>Date</th>\n",
              "      <th></th>\n",
              "      <th></th>\n",
              "    </tr>\n",
              "  </thead>\n",
              "  <tbody>\n",
              "    <tr>\n",
              "      <th>1984-01-03</th>\n",
              "      <td>997.500000</td>\n",
              "      <td>NaN</td>\n",
              "    </tr>\n",
              "    <tr>\n",
              "      <th>1984-01-04</th>\n",
              "      <td>998.599976</td>\n",
              "      <td>0.001102</td>\n",
              "    </tr>\n",
              "    <tr>\n",
              "      <th>1984-01-05</th>\n",
              "      <td>1015.799988</td>\n",
              "      <td>0.017077</td>\n",
              "    </tr>\n",
              "    <tr>\n",
              "      <th>1984-01-06</th>\n",
              "      <td>1029.000000</td>\n",
              "      <td>0.012911</td>\n",
              "    </tr>\n",
              "    <tr>\n",
              "      <th>1984-01-09</th>\n",
              "      <td>1034.599976</td>\n",
              "      <td>0.005427</td>\n",
              "    </tr>\n",
              "    <tr>\n",
              "      <th>...</th>\n",
              "      <td>...</td>\n",
              "      <td>...</td>\n",
              "    </tr>\n",
              "    <tr>\n",
              "      <th>2021-12-21</th>\n",
              "      <td>7297.399902</td>\n",
              "      <td>0.013715</td>\n",
              "    </tr>\n",
              "    <tr>\n",
              "      <th>2021-12-22</th>\n",
              "      <td>7341.700195</td>\n",
              "      <td>0.006052</td>\n",
              "    </tr>\n",
              "    <tr>\n",
              "      <th>2021-12-23</th>\n",
              "      <td>7373.299805</td>\n",
              "      <td>0.004295</td>\n",
              "    </tr>\n",
              "    <tr>\n",
              "      <th>2021-12-24</th>\n",
              "      <td>7372.100098</td>\n",
              "      <td>-0.000163</td>\n",
              "    </tr>\n",
              "    <tr>\n",
              "      <th>2021-12-29</th>\n",
              "      <td>7447.100098</td>\n",
              "      <td>0.010122</td>\n",
              "    </tr>\n",
              "  </tbody>\n",
              "</table>\n",
              "<p>9599 rows × 2 columns</p>\n",
              "</div>\n",
              "      <button class=\"colab-df-convert\" onclick=\"convertToInteractive('df-6c92f8f3-3c86-4066-90ba-081f1d936458')\"\n",
              "              title=\"Convert this dataframe to an interactive table.\"\n",
              "              style=\"display:none;\">\n",
              "        \n",
              "  <svg xmlns=\"http://www.w3.org/2000/svg\" height=\"24px\"viewBox=\"0 0 24 24\"\n",
              "       width=\"24px\">\n",
              "    <path d=\"M0 0h24v24H0V0z\" fill=\"none\"/>\n",
              "    <path d=\"M18.56 5.44l.94 2.06.94-2.06 2.06-.94-2.06-.94-.94-2.06-.94 2.06-2.06.94zm-11 1L8.5 8.5l.94-2.06 2.06-.94-2.06-.94L8.5 2.5l-.94 2.06-2.06.94zm10 10l.94 2.06.94-2.06 2.06-.94-2.06-.94-.94-2.06-.94 2.06-2.06.94z\"/><path d=\"M17.41 7.96l-1.37-1.37c-.4-.4-.92-.59-1.43-.59-.52 0-1.04.2-1.43.59L10.3 9.45l-7.72 7.72c-.78.78-.78 2.05 0 2.83L4 21.41c.39.39.9.59 1.41.59.51 0 1.02-.2 1.41-.59l7.78-7.78 2.81-2.81c.8-.78.8-2.07 0-2.86zM5.41 20L4 18.59l7.72-7.72 1.47 1.35L5.41 20z\"/>\n",
              "  </svg>\n",
              "      </button>\n",
              "      \n",
              "  <style>\n",
              "    .colab-df-container {\n",
              "      display:flex;\n",
              "      flex-wrap:wrap;\n",
              "      gap: 12px;\n",
              "    }\n",
              "\n",
              "    .colab-df-convert {\n",
              "      background-color: #E8F0FE;\n",
              "      border: none;\n",
              "      border-radius: 50%;\n",
              "      cursor: pointer;\n",
              "      display: none;\n",
              "      fill: #1967D2;\n",
              "      height: 32px;\n",
              "      padding: 0 0 0 0;\n",
              "      width: 32px;\n",
              "    }\n",
              "\n",
              "    .colab-df-convert:hover {\n",
              "      background-color: #E2EBFA;\n",
              "      box-shadow: 0px 1px 2px rgba(60, 64, 67, 0.3), 0px 1px 3px 1px rgba(60, 64, 67, 0.15);\n",
              "      fill: #174EA6;\n",
              "    }\n",
              "\n",
              "    [theme=dark] .colab-df-convert {\n",
              "      background-color: #3B4455;\n",
              "      fill: #D2E3FC;\n",
              "    }\n",
              "\n",
              "    [theme=dark] .colab-df-convert:hover {\n",
              "      background-color: #434B5C;\n",
              "      box-shadow: 0px 1px 3px 1px rgba(0, 0, 0, 0.15);\n",
              "      filter: drop-shadow(0px 1px 2px rgba(0, 0, 0, 0.3));\n",
              "      fill: #FFFFFF;\n",
              "    }\n",
              "  </style>\n",
              "\n",
              "      <script>\n",
              "        const buttonEl =\n",
              "          document.querySelector('#df-6c92f8f3-3c86-4066-90ba-081f1d936458 button.colab-df-convert');\n",
              "        buttonEl.style.display =\n",
              "          google.colab.kernel.accessAllowed ? 'block' : 'none';\n",
              "\n",
              "        async function convertToInteractive(key) {\n",
              "          const element = document.querySelector('#df-6c92f8f3-3c86-4066-90ba-081f1d936458');\n",
              "          const dataTable =\n",
              "            await google.colab.kernel.invokeFunction('convertToInteractive',\n",
              "                                                     [key], {});\n",
              "          if (!dataTable) return;\n",
              "\n",
              "          const docLinkHtml = 'Like what you see? Visit the ' +\n",
              "            '<a target=\"_blank\" href=https://colab.research.google.com/notebooks/data_table.ipynb>data table notebook</a>'\n",
              "            + ' to learn more about interactive tables.';\n",
              "          element.innerHTML = '';\n",
              "          dataTable['output_type'] = 'display_data';\n",
              "          await google.colab.output.renderOutput(dataTable, element);\n",
              "          const docLink = document.createElement('div');\n",
              "          docLink.innerHTML = docLinkHtml;\n",
              "          element.appendChild(docLink);\n",
              "        }\n",
              "      </script>\n",
              "    </div>\n",
              "  </div>\n",
              "  "
            ]
          },
          "metadata": {},
          "execution_count": 134
        }
      ]
    },
    {
      "cell_type": "code",
      "source": [
        "plt.plot(df_logret)"
      ],
      "metadata": {
        "colab": {
          "base_uri": "https://localhost:8080/",
          "height": 392
        },
        "id": "ZGmAbOCz8Kxg",
        "outputId": "70626ac6-cb72-4803-b7b8-c665b25946eb"
      },
      "execution_count": null,
      "outputs": [
        {
          "output_type": "execute_result",
          "data": {
            "text/plain": [
              "[<matplotlib.lines.Line2D at 0x7f8827872050>]"
            ]
          },
          "metadata": {},
          "execution_count": 135
        },
        {
          "output_type": "display_data",
          "data": {
            "text/plain": [
              "<Figure size 1080x432 with 1 Axes>"
            ],
            "image/png": "[encoded data removed]"
          },
          "metadata": {
            "needs_background": "light"
          }
        }
      ]
    },
    {
      "cell_type": "markdown",
      "source": [
        "# **Hurst exponent function**\n",
        "In a theoretical efficient market we should observe a value equal to 0.5 of the Hurst exponent for each bunch of data we take into account in order to compute the moment. Remember that by assuming self-similarity and stationarity of the increments, from the relationship:\n",
        "\\begin{equation}\n",
        "    \\{X(t+a)-X(t)\\} \\sim \\{a^{H}(X(t+1)-X(t)\\}\n",
        "\\end{equation}\n",
        "where $\\sim$ denotes the equality in distribution, it holds the following equation: \n",
        "\\begin{equation}\n",
        "    \\mathbf{E}[X(t)^q] = t^{Hq}\\mathbf{E}X(1)^q\n",
        "\\end{equation}\n"
      ],
      "metadata": {
        "id": "-atZcAqQR5rr"
      }
    },
    {
      "cell_type": "code",
      "source": [
        "k = int(input(\"Enter the moment of the time series:\"))                                                       \n",
        "N = len(df)\n",
        "h = []\n",
        "moment = []\n",
        "def get_hurst(time_series, max_lag=20):\n",
        "    lags = range(2, max_lag)\n",
        "    for lag in lags:\n",
        "      h.append(lag)\n",
        "      ret = np.subtract(time_series[lag:], time_series[:-lag])  \n",
        "      moment.append(1/N*np.sum(abs(ret)**k))\n",
        "    slope = np.polyfit(k*np.log(h), np.log(moment), 1)           \n",
        "    return slope[0]"
      ],
      "metadata": {
        "id": "h8KGV-t1z0iN",
        "colab": {
          "base_uri": "https://localhost:8080/"
        },
        "outputId": "4e527ef4-4fe7-44ca-8191-33bc28752de1"
      },
      "execution_count": null,
      "outputs": [
        {
          "name": "stdout",
          "output_type": "stream",
          "text": [
            "Enter the moment of the time series:3\n"
          ]
        }
      ]
    },
    {
      "cell_type": "code",
      "source": [
        "for lag in [20, 100, 300, 500, 1000]:\n",
        "    hurst_exp = get_hurst(df.values, lag)\n",
        "    print(f\"Hurst exponent with {lag} lags: {hurst_exp:.4f}\")"
      ],
      "metadata": {
        "colab": {
          "base_uri": "https://localhost:8080/"
        },
        "id": "49086lPmWjrO",
        "outputId": "98e88e1e-dfff-4dae-b0ab-bb164afeac2a"
      },
      "execution_count": null,
      "outputs": [
        {
          "output_type": "stream",
          "name": "stdout",
          "text": [
            "Hurst exponent with 20 lags: 0.4832\n",
            "Hurst exponent with 100 lags: 0.4145\n",
            "Hurst exponent with 300 lags: 0.4091\n",
            "Hurst exponent with 500 lags: 0.4151\n",
            "Hurst exponent with 1000 lags: 0.4215\n"
          ]
        }
      ]
    },
    {
      "cell_type": "code",
      "source": [
        "x=np.log(h)\n",
        "y=np.log(moment)\n",
        "a, b = np.polyfit(k*x,y,deg=1)\n",
        "plt.rcParams[\"figure.figsize\"] = (15, 6)\n",
        "fig, ax = plt.subplots()\n",
        "ax.plot(k*x, y, 'o')\n",
        "ax.plot(k*x, k*a*x+b, linewidth = 3, label = f'{a:.3f}x {b:.3f}')\n",
        "plt.xlabel(f'log(lags)')\n",
        "plt.ylabel(f'log(Moment^{k})')\n",
        "ax.legend(loc='upper left')\n",
        "ax.set_title(f'FTSE (H={a:.3f})')\n",
        "plt.show()"
      ],
      "metadata": {
        "colab": {
          "base_uri": "https://localhost:8080/",
          "height": 404
        },
        "id": "cc5GOwDenDVe",
        "outputId": "b1920816-e700-4b79-a7a4-37b27ee5bebe"
      },
      "execution_count": null,
      "outputs": [
        {
          "output_type": "display_data",
          "data": {
            "text/plain": [
              "<Figure size 1080x432 with 1 Axes>"
            ],
            "image/png": "[encoded data removed]"
          },
          "metadata": {
            "needs_background": "light"
          }
        }
      ]
    }
  ]
}